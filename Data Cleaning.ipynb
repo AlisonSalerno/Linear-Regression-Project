{
 "cells": [
  {
   "cell_type": "code",
   "execution_count": 174,
   "metadata": {},
   "outputs": [],
   "source": [
    "import pandas as pd\n",
    "df=pd.read_csv('spotify_all_data3.csv')"
   ]
  },
  {
   "cell_type": "code",
   "execution_count": 175,
   "metadata": {},
   "outputs": [],
   "source": [
    "pd.options.display.max_rows=1000"
   ]
  },
  {
   "cell_type": "code",
   "execution_count": 176,
   "metadata": {},
   "outputs": [
    {
     "data": {
      "text/plain": [
       "Unnamed: 0                0\n",
       "Title                     0\n",
       "Artist                    0\n",
       "Top Genre                 0\n",
       "Year                      0\n",
       "Beats Per Minute (BPM)    0\n",
       "Energy                    0\n",
       "Danceability              0\n",
       "Loudness (dB)             0\n",
       "Liveness                  0\n",
       "Valence                   0\n",
       "Length (Duration)         0\n",
       "Acousticness              0\n",
       "Speechiness               0\n",
       "Popularity                0\n",
       "Total Followers           0\n",
       "dtype: int64"
      ]
     },
     "execution_count": 176,
     "metadata": {},
     "output_type": "execute_result"
    }
   ],
   "source": [
    "df.isna().sum()"
   ]
  },
  {
   "cell_type": "code",
   "execution_count": 177,
   "metadata": {},
   "outputs": [
    {
     "data": {
      "text/plain": [
       "(1995, 16)"
      ]
     },
     "execution_count": 177,
     "metadata": {},
     "output_type": "execute_result"
    }
   ],
   "source": [
    "df.shape"
   ]
  },
  {
   "cell_type": "code",
   "execution_count": 178,
   "metadata": {},
   "outputs": [
    {
     "data": {
      "text/plain": [
       "Index(['Unnamed: 0', 'Title', 'Artist', 'Top Genre', 'Year',\n",
       "       'Beats Per Minute (BPM)', 'Energy', 'Danceability', 'Loudness (dB)',\n",
       "       'Liveness', 'Valence', 'Length (Duration)', 'Acousticness',\n",
       "       'Speechiness', 'Popularity', 'Total Followers'],\n",
       "      dtype='object')"
      ]
     },
     "execution_count": 178,
     "metadata": {},
     "output_type": "execute_result"
    }
   ],
   "source": [
    "df.columns"
   ]
  },
  {
   "cell_type": "code",
   "execution_count": 179,
   "metadata": {},
   "outputs": [],
   "source": [
    "df.drop(columns='Unnamed: 0',inplace=True)"
   ]
  },
  {
   "cell_type": "code",
   "execution_count": 180,
   "metadata": {},
   "outputs": [
    {
     "name": "stdout",
     "output_type": "stream",
     "text": [
      "<class 'pandas.core.frame.DataFrame'>\n",
      "RangeIndex: 1995 entries, 0 to 1994\n",
      "Data columns (total 15 columns):\n",
      "Title                     1995 non-null object\n",
      "Artist                    1995 non-null object\n",
      "Top Genre                 1995 non-null object\n",
      "Year                      1995 non-null int64\n",
      "Beats Per Minute (BPM)    1995 non-null int64\n",
      "Energy                    1995 non-null int64\n",
      "Danceability              1995 non-null int64\n",
      "Loudness (dB)             1995 non-null int64\n",
      "Liveness                  1995 non-null int64\n",
      "Valence                   1995 non-null int64\n",
      "Length (Duration)         1995 non-null object\n",
      "Acousticness              1995 non-null int64\n",
      "Speechiness               1995 non-null int64\n",
      "Popularity                1995 non-null int64\n",
      "Total Followers           1995 non-null int64\n",
      "dtypes: int64(11), object(4)\n",
      "memory usage: 233.9+ KB\n"
     ]
    }
   ],
   "source": [
    "df.info()"
   ]
  },
  {
   "cell_type": "code",
   "execution_count": 181,
   "metadata": {},
   "outputs": [],
   "source": [
    "df.rename(columns={'Length (Duration)': 'Duration', 'Beats Per Minute (BPM)':'BPM','Loudness (dB)':'Loudness_db'},inplace=True)"
   ]
  },
  {
   "cell_type": "code",
   "execution_count": 182,
   "metadata": {},
   "outputs": [],
   "source": [
    "#convert duration to int object and remove ,s\n",
    "df['Duration'] = pd.to_numeric(df['Duration'].str.replace(',', ''))"
   ]
  },
  {
   "cell_type": "code",
   "execution_count": 105,
   "metadata": {},
   "outputs": [],
   "source": [
    "#nan_rows = df[df['Total Followers'].isnull()]"
   ]
  },
  {
   "cell_type": "code",
   "execution_count": 106,
   "metadata": {},
   "outputs": [
    {
     "data": {
      "text/html": [
       "<div>\n",
       "<style scoped>\n",
       "    .dataframe tbody tr th:only-of-type {\n",
       "        vertical-align: middle;\n",
       "    }\n",
       "\n",
       "    .dataframe tbody tr th {\n",
       "        vertical-align: top;\n",
       "    }\n",
       "\n",
       "    .dataframe thead th {\n",
       "        text-align: right;\n",
       "    }\n",
       "</style>\n",
       "<table border=\"1\" class=\"dataframe\">\n",
       "  <thead>\n",
       "    <tr style=\"text-align: right;\">\n",
       "      <th></th>\n",
       "      <th>Title</th>\n",
       "      <th>Artist</th>\n",
       "      <th>Top Genre</th>\n",
       "      <th>Year</th>\n",
       "      <th>BPM</th>\n",
       "      <th>Energy</th>\n",
       "      <th>Danceability</th>\n",
       "      <th>Loudness_db</th>\n",
       "      <th>Liveness</th>\n",
       "      <th>Valence</th>\n",
       "      <th>Duration</th>\n",
       "      <th>Acousticness</th>\n",
       "      <th>Speechiness</th>\n",
       "      <th>Popularity</th>\n",
       "      <th>Total Followers</th>\n",
       "    </tr>\n",
       "  </thead>\n",
       "  <tbody>\n",
       "  </tbody>\n",
       "</table>\n",
       "</div>"
      ],
      "text/plain": [
       "Empty DataFrame\n",
       "Columns: [Title, Artist, Top Genre, Year, BPM, Energy, Danceability, Loudness_db, Liveness, Valence, Duration, Acousticness, Speechiness, Popularity, Total Followers]\n",
       "Index: []"
      ]
     },
     "execution_count": 106,
     "metadata": {},
     "output_type": "execute_result"
    }
   ],
   "source": [
    "#nan_rows"
   ]
  },
  {
   "cell_type": "code",
   "execution_count": 107,
   "metadata": {},
   "outputs": [
    {
     "data": {
      "text/plain": [
       "count    1.995000e+03\n",
       "mean     4.733885e+06\n",
       "std      7.984419e+06\n",
       "min      8.800000e+01\n",
       "25%      3.562730e+05\n",
       "50%      1.682735e+06\n",
       "75%      4.995064e+06\n",
       "max      6.274376e+07\n",
       "Name: Total Followers, dtype: float64"
      ]
     },
     "execution_count": 107,
     "metadata": {},
     "output_type": "execute_result"
    }
   ],
   "source": [
    "df['Total Followers'].describe()"
   ]
  },
  {
   "cell_type": "code",
   "execution_count": 183,
   "metadata": {},
   "outputs": [],
   "source": [
    "df['Total Followers']=df['Total Followers'].astype(int)"
   ]
  },
  {
   "cell_type": "code",
   "execution_count": 184,
   "metadata": {},
   "outputs": [
    {
     "name": "stdout",
     "output_type": "stream",
     "text": [
      "<class 'pandas.core.frame.DataFrame'>\n",
      "RangeIndex: 1995 entries, 0 to 1994\n",
      "Data columns (total 15 columns):\n",
      "Title              1995 non-null object\n",
      "Artist             1995 non-null object\n",
      "Top Genre          1995 non-null object\n",
      "Year               1995 non-null int64\n",
      "BPM                1995 non-null int64\n",
      "Energy             1995 non-null int64\n",
      "Danceability       1995 non-null int64\n",
      "Loudness_db        1995 non-null int64\n",
      "Liveness           1995 non-null int64\n",
      "Valence            1995 non-null int64\n",
      "Duration           1995 non-null int64\n",
      "Acousticness       1995 non-null int64\n",
      "Speechiness        1995 non-null int64\n",
      "Popularity         1995 non-null int64\n",
      "Total Followers    1995 non-null int64\n",
      "dtypes: int64(12), object(3)\n",
      "memory usage: 233.9+ KB\n"
     ]
    }
   ],
   "source": [
    "df.info()"
   ]
  },
  {
   "cell_type": "code",
   "execution_count": 194,
   "metadata": {},
   "outputs": [],
   "source": [
    "#run last\n",
    "df.loc[df['Top Genre'].str.contains('pop'),'Top Genre']='pop'"
   ]
  },
  {
   "cell_type": "code",
   "execution_count": 185,
   "metadata": {},
   "outputs": [],
   "source": [
    "#='punk' do this before pop\n",
    "df.loc[df['Top Genre'].str.contains('punk'),'Top Genre']='punk'"
   ]
  },
  {
   "cell_type": "code",
   "execution_count": 210,
   "metadata": {},
   "outputs": [],
   "source": [
    "df.loc[df['Top Genre'].str.contains('rock|prog'),'Top Genre']='rock'"
   ]
  },
  {
   "cell_type": "code",
   "execution_count": 186,
   "metadata": {},
   "outputs": [],
   "source": [
    "#=hip hop/rap\n",
    "df.loc[df['Top Genre'].str.contains('hip hop|rap'),'Top Genre']='hip hop/rap'"
   ]
  },
  {
   "cell_type": "code",
   "execution_count": 187,
   "metadata": {},
   "outputs": [],
   "source": [
    "#='country/americana'\n",
    "df.loc[df['Top Genre'].str.contains('country|americana'),'Top Genre']='country/americana'"
   ]
  },
  {
   "cell_type": "code",
   "execution_count": 188,
   "metadata": {},
   "outputs": [],
   "source": [
    "#='folk'\n",
    "df.loc[df['Top Genre'].str.contains('folk'),'Top Genre']='folk'"
   ]
  },
  {
   "cell_type": "code",
   "execution_count": 189,
   "metadata": {},
   "outputs": [],
   "source": [
    "#='alternative' do this before changing pop/rock\n",
    "df.loc[df['Top Genre'].str.contains('alternative'),'Top Genre']='alternative'"
   ]
  },
  {
   "cell_type": "code",
   "execution_count": 190,
   "metadata": {},
   "outputs": [],
   "source": [
    "#=house/electronica\n",
    "df.loc[df['Top Genre'].str.contains('house|electronica|electro'),'Top Genre']='dance'"
   ]
  },
  {
   "cell_type": "code",
   "execution_count": 200,
   "metadata": {},
   "outputs": [],
   "source": [
    "#=singer-songwriter\n",
    "df.loc[df['Top Genre'].str.contains('songwriter|songwrite'),'Top Genre']='singer-songwriter'"
   ]
  },
  {
   "cell_type": "code",
   "execution_count": 192,
   "metadata": {},
   "outputs": [],
   "source": [
    "df.loc[df['Top Genre'].str.contains('metal'),'Top Genre']='metal'"
   ]
  },
  {
   "cell_type": "code",
   "execution_count": 195,
   "metadata": {},
   "outputs": [],
   "source": [
    "df.loc[df['Top Genre'].str.contains('dance'),'Top Genre']='dance'"
   ]
  },
  {
   "cell_type": "code",
   "execution_count": 204,
   "metadata": {},
   "outputs": [],
   "source": [
    "df.loc[df['Top Genre'].str.contains('caberet|cabaret'),'Top Genre']='cabaret'"
   ]
  },
  {
   "cell_type": "code",
   "execution_count": 207,
   "metadata": {},
   "outputs": [],
   "source": [
    "df.loc[df['Top Genre'].str.contains('indie'),'Top Genre']='indie'"
   ]
  },
  {
   "cell_type": "code",
   "execution_count": 211,
   "metadata": {},
   "outputs": [
    {
     "data": {
      "text/plain": [
       "29"
      ]
     },
     "execution_count": 211,
     "metadata": {},
     "output_type": "execute_result"
    }
   ],
   "source": [
    "len(df['Top Genre'].value_counts())"
   ]
  },
  {
   "cell_type": "code",
   "execution_count": 212,
   "metadata": {},
   "outputs": [
    {
     "data": {
      "text/plain": [
       "rock                 825\n",
       "pop                  398\n",
       "alternative          185\n",
       "adult standards      110\n",
       "indie                 76\n",
       "cabaret               54\n",
       "soul                  50\n",
       "dance                 46\n",
       "hip hop/rap           35\n",
       "folk                  33\n",
       "permanent wave        32\n",
       "country/americana     30\n",
       "disco                 18\n",
       "funk                  13\n",
       "reggae                12\n",
       "mellow gold           11\n",
       "carnaval limburg      10\n",
       "blues                  8\n",
       "singer-songwriter      8\n",
       "metal                  6\n",
       "chanson                6\n",
       "celtic                 5\n",
       "punk                   5\n",
       "downtempo              4\n",
       "classic                4\n",
       "jazz                   4\n",
       "latin                  3\n",
       "opera                  2\n",
       "gabba                  2\n",
       "Name: Top Genre, dtype: int64"
      ]
     },
     "execution_count": 212,
     "metadata": {},
     "output_type": "execute_result"
    }
   ],
   "source": [
    "df['Top Genre'].value_counts()"
   ]
  },
  {
   "cell_type": "code",
   "execution_count": 214,
   "metadata": {},
   "outputs": [
    {
     "name": "stdout",
     "output_type": "stream",
     "text": [
      "<class 'pandas.core.frame.DataFrame'>\n",
      "RangeIndex: 1995 entries, 0 to 1994\n",
      "Data columns (total 15 columns):\n",
      "Title              1995 non-null object\n",
      "Artist             1995 non-null object\n",
      "Top Genre          1995 non-null object\n",
      "Year               1995 non-null int64\n",
      "BPM                1995 non-null int64\n",
      "Energy             1995 non-null int64\n",
      "Danceability       1995 non-null int64\n",
      "Loudness_db        1995 non-null int64\n",
      "Liveness           1995 non-null int64\n",
      "Valence            1995 non-null int64\n",
      "Duration           1995 non-null int64\n",
      "Acousticness       1995 non-null int64\n",
      "Speechiness        1995 non-null int64\n",
      "Popularity         1995 non-null int64\n",
      "Total Followers    1995 non-null int64\n",
      "dtypes: int64(12), object(3)\n",
      "memory usage: 233.9+ KB\n"
     ]
    }
   ],
   "source": [
    "df.info()"
   ]
  },
  {
   "cell_type": "code",
   "execution_count": 217,
   "metadata": {},
   "outputs": [
    {
     "data": {
      "text/plain": [
       "count    1995.000000\n",
       "mean     1992.980451\n",
       "std        16.121720\n",
       "min      1956.000000\n",
       "25%      1979.000000\n",
       "50%      1993.000000\n",
       "75%      2007.000000\n",
       "max      2019.000000\n",
       "Name: Year, dtype: float64"
      ]
     },
     "execution_count": 217,
     "metadata": {},
     "output_type": "execute_result"
    }
   ],
   "source": [
    "df['Year'].describe()"
   ]
  },
  {
   "cell_type": "code",
   "execution_count": 218,
   "metadata": {},
   "outputs": [],
   "source": [
    "#dataset is from 2019\n",
    "#creating new column for years since release to see impact in model\n",
    "df['yrs_since_release'] =  df['Year'].map(lambda x: 2019-x)"
   ]
  },
  {
   "cell_type": "code",
   "execution_count": 226,
   "metadata": {},
   "outputs": [],
   "source": [
    "#creating a new column for word count in title\n",
    "df['word_count_in_title']=df['Title'].map(lambda x: len(x.split(' ')))"
   ]
  },
  {
   "cell_type": "code",
   "execution_count": 228,
   "metadata": {},
   "outputs": [],
   "source": [
    "#creating dummies for genres so categorical data can be used in modeling\n",
    "genre_dummy = pd.get_dummies(df['Top Genre'],prefix = 'Genre')\n",
    "df = pd.concat([df, genre_dummy], axis = 1)"
   ]
  },
  {
   "cell_type": "code",
   "execution_count": 231,
   "metadata": {},
   "outputs": [],
   "source": [
    "#dropping one genre to avoid multicollinearity \n",
    "df.drop(columns='Genre_permanent wave',inplace=True)"
   ]
  },
  {
   "cell_type": "code",
   "execution_count": 234,
   "metadata": {},
   "outputs": [
    {
     "data": {
      "text/plain": [
       "Index(['Title', 'Artist', 'Top Genre', 'Year', 'BPM', 'Energy', 'Danceability',\n",
       "       'Loudness_db', 'Liveness', 'Valence', 'Duration', 'Acousticness',\n",
       "       'Speechiness', 'Popularity', 'Total Followers', 'yrs_since_release',\n",
       "       'word_count_in_title', 'Genre_adult standards', 'Genre_alternative',\n",
       "       'Genre_blues', 'Genre_cabaret', 'Genre_carnaval limburg',\n",
       "       'Genre_celtic', 'Genre_chanson', 'Genre_classic',\n",
       "       'Genre_country/americana', 'Genre_dance', 'Genre_disco',\n",
       "       'Genre_downtempo', 'Genre_folk', 'Genre_funk', 'Genre_gabba',\n",
       "       'Genre_hip hop/rap', 'Genre_indie', 'Genre_jazz', 'Genre_latin',\n",
       "       'Genre_mellow gold', 'Genre_metal', 'Genre_opera', 'Genre_pop',\n",
       "       'Genre_punk', 'Genre_reggae', 'Genre_rock', 'Genre_singer-songwriter',\n",
       "       'Genre_soul'],\n",
       "      dtype='object')"
      ]
     },
     "execution_count": 234,
     "metadata": {},
     "output_type": "execute_result"
    }
   ],
   "source": [
    "df.columns"
   ]
  },
  {
   "cell_type": "code",
   "execution_count": 237,
   "metadata": {},
   "outputs": [
    {
     "data": {
      "text/html": [
       "<div>\n",
       "<style scoped>\n",
       "    .dataframe tbody tr th:only-of-type {\n",
       "        vertical-align: middle;\n",
       "    }\n",
       "\n",
       "    .dataframe tbody tr th {\n",
       "        vertical-align: top;\n",
       "    }\n",
       "\n",
       "    .dataframe thead th {\n",
       "        text-align: right;\n",
       "    }\n",
       "</style>\n",
       "<table border=\"1\" class=\"dataframe\">\n",
       "  <thead>\n",
       "    <tr style=\"text-align: right;\">\n",
       "      <th></th>\n",
       "      <th>Title</th>\n",
       "      <th>Artist</th>\n",
       "      <th>Top Genre</th>\n",
       "      <th>Year</th>\n",
       "      <th>BPM</th>\n",
       "      <th>Energy</th>\n",
       "      <th>Danceability</th>\n",
       "      <th>Loudness_db</th>\n",
       "      <th>Liveness</th>\n",
       "      <th>Valence</th>\n",
       "      <th>...</th>\n",
       "      <th>Genre_latin</th>\n",
       "      <th>Genre_mellow gold</th>\n",
       "      <th>Genre_metal</th>\n",
       "      <th>Genre_opera</th>\n",
       "      <th>Genre_pop</th>\n",
       "      <th>Genre_punk</th>\n",
       "      <th>Genre_reggae</th>\n",
       "      <th>Genre_rock</th>\n",
       "      <th>Genre_singer-songwriter</th>\n",
       "      <th>Genre_soul</th>\n",
       "    </tr>\n",
       "  </thead>\n",
       "  <tbody>\n",
       "    <tr>\n",
       "      <td>0</td>\n",
       "      <td>Sunrise</td>\n",
       "      <td>Norah Jones</td>\n",
       "      <td>pop</td>\n",
       "      <td>2004</td>\n",
       "      <td>157</td>\n",
       "      <td>30</td>\n",
       "      <td>53</td>\n",
       "      <td>-14</td>\n",
       "      <td>11</td>\n",
       "      <td>68</td>\n",
       "      <td>...</td>\n",
       "      <td>0</td>\n",
       "      <td>0</td>\n",
       "      <td>0</td>\n",
       "      <td>0</td>\n",
       "      <td>1</td>\n",
       "      <td>0</td>\n",
       "      <td>0</td>\n",
       "      <td>0</td>\n",
       "      <td>0</td>\n",
       "      <td>0</td>\n",
       "    </tr>\n",
       "    <tr>\n",
       "      <td>1</td>\n",
       "      <td>Black Night</td>\n",
       "      <td>Deep Purple</td>\n",
       "      <td>rock</td>\n",
       "      <td>2000</td>\n",
       "      <td>135</td>\n",
       "      <td>79</td>\n",
       "      <td>50</td>\n",
       "      <td>-11</td>\n",
       "      <td>17</td>\n",
       "      <td>81</td>\n",
       "      <td>...</td>\n",
       "      <td>0</td>\n",
       "      <td>0</td>\n",
       "      <td>0</td>\n",
       "      <td>0</td>\n",
       "      <td>0</td>\n",
       "      <td>0</td>\n",
       "      <td>0</td>\n",
       "      <td>1</td>\n",
       "      <td>0</td>\n",
       "      <td>0</td>\n",
       "    </tr>\n",
       "    <tr>\n",
       "      <td>2</td>\n",
       "      <td>Clint Eastwood</td>\n",
       "      <td>Gorillaz</td>\n",
       "      <td>hip hop/rap</td>\n",
       "      <td>2001</td>\n",
       "      <td>168</td>\n",
       "      <td>69</td>\n",
       "      <td>66</td>\n",
       "      <td>-9</td>\n",
       "      <td>7</td>\n",
       "      <td>52</td>\n",
       "      <td>...</td>\n",
       "      <td>0</td>\n",
       "      <td>0</td>\n",
       "      <td>0</td>\n",
       "      <td>0</td>\n",
       "      <td>0</td>\n",
       "      <td>0</td>\n",
       "      <td>0</td>\n",
       "      <td>0</td>\n",
       "      <td>0</td>\n",
       "      <td>0</td>\n",
       "    </tr>\n",
       "    <tr>\n",
       "      <td>3</td>\n",
       "      <td>The Pretender</td>\n",
       "      <td>Foo Fighters</td>\n",
       "      <td>alternative</td>\n",
       "      <td>2007</td>\n",
       "      <td>173</td>\n",
       "      <td>96</td>\n",
       "      <td>43</td>\n",
       "      <td>-4</td>\n",
       "      <td>3</td>\n",
       "      <td>37</td>\n",
       "      <td>...</td>\n",
       "      <td>0</td>\n",
       "      <td>0</td>\n",
       "      <td>0</td>\n",
       "      <td>0</td>\n",
       "      <td>0</td>\n",
       "      <td>0</td>\n",
       "      <td>0</td>\n",
       "      <td>0</td>\n",
       "      <td>0</td>\n",
       "      <td>0</td>\n",
       "    </tr>\n",
       "    <tr>\n",
       "      <td>4</td>\n",
       "      <td>Waitin' On A Sunny Day</td>\n",
       "      <td>Bruce Springsteen</td>\n",
       "      <td>rock</td>\n",
       "      <td>2002</td>\n",
       "      <td>106</td>\n",
       "      <td>82</td>\n",
       "      <td>58</td>\n",
       "      <td>-5</td>\n",
       "      <td>10</td>\n",
       "      <td>87</td>\n",
       "      <td>...</td>\n",
       "      <td>0</td>\n",
       "      <td>0</td>\n",
       "      <td>0</td>\n",
       "      <td>0</td>\n",
       "      <td>0</td>\n",
       "      <td>0</td>\n",
       "      <td>0</td>\n",
       "      <td>1</td>\n",
       "      <td>0</td>\n",
       "      <td>0</td>\n",
       "    </tr>\n",
       "    <tr>\n",
       "      <td>...</td>\n",
       "      <td>...</td>\n",
       "      <td>...</td>\n",
       "      <td>...</td>\n",
       "      <td>...</td>\n",
       "      <td>...</td>\n",
       "      <td>...</td>\n",
       "      <td>...</td>\n",
       "      <td>...</td>\n",
       "      <td>...</td>\n",
       "      <td>...</td>\n",
       "      <td>...</td>\n",
       "      <td>...</td>\n",
       "      <td>...</td>\n",
       "      <td>...</td>\n",
       "      <td>...</td>\n",
       "      <td>...</td>\n",
       "      <td>...</td>\n",
       "      <td>...</td>\n",
       "      <td>...</td>\n",
       "      <td>...</td>\n",
       "      <td>...</td>\n",
       "    </tr>\n",
       "    <tr>\n",
       "      <td>1990</td>\n",
       "      <td>Heartbreak Hotel</td>\n",
       "      <td>Elvis Presley</td>\n",
       "      <td>adult standards</td>\n",
       "      <td>1958</td>\n",
       "      <td>94</td>\n",
       "      <td>21</td>\n",
       "      <td>70</td>\n",
       "      <td>-12</td>\n",
       "      <td>11</td>\n",
       "      <td>72</td>\n",
       "      <td>...</td>\n",
       "      <td>0</td>\n",
       "      <td>0</td>\n",
       "      <td>0</td>\n",
       "      <td>0</td>\n",
       "      <td>0</td>\n",
       "      <td>0</td>\n",
       "      <td>0</td>\n",
       "      <td>0</td>\n",
       "      <td>0</td>\n",
       "      <td>0</td>\n",
       "    </tr>\n",
       "    <tr>\n",
       "      <td>1991</td>\n",
       "      <td>Hound Dog</td>\n",
       "      <td>Elvis Presley</td>\n",
       "      <td>adult standards</td>\n",
       "      <td>1958</td>\n",
       "      <td>175</td>\n",
       "      <td>76</td>\n",
       "      <td>36</td>\n",
       "      <td>-8</td>\n",
       "      <td>76</td>\n",
       "      <td>95</td>\n",
       "      <td>...</td>\n",
       "      <td>0</td>\n",
       "      <td>0</td>\n",
       "      <td>0</td>\n",
       "      <td>0</td>\n",
       "      <td>0</td>\n",
       "      <td>0</td>\n",
       "      <td>0</td>\n",
       "      <td>0</td>\n",
       "      <td>0</td>\n",
       "      <td>0</td>\n",
       "    </tr>\n",
       "    <tr>\n",
       "      <td>1992</td>\n",
       "      <td>Johnny B. Goode</td>\n",
       "      <td>Chuck Berry</td>\n",
       "      <td>rock</td>\n",
       "      <td>1959</td>\n",
       "      <td>168</td>\n",
       "      <td>80</td>\n",
       "      <td>53</td>\n",
       "      <td>-9</td>\n",
       "      <td>31</td>\n",
       "      <td>97</td>\n",
       "      <td>...</td>\n",
       "      <td>0</td>\n",
       "      <td>0</td>\n",
       "      <td>0</td>\n",
       "      <td>0</td>\n",
       "      <td>0</td>\n",
       "      <td>0</td>\n",
       "      <td>0</td>\n",
       "      <td>1</td>\n",
       "      <td>0</td>\n",
       "      <td>0</td>\n",
       "    </tr>\n",
       "    <tr>\n",
       "      <td>1993</td>\n",
       "      <td>Take Five</td>\n",
       "      <td>The Dave Brubeck Quartet</td>\n",
       "      <td>jazz</td>\n",
       "      <td>1959</td>\n",
       "      <td>174</td>\n",
       "      <td>26</td>\n",
       "      <td>45</td>\n",
       "      <td>-13</td>\n",
       "      <td>7</td>\n",
       "      <td>60</td>\n",
       "      <td>...</td>\n",
       "      <td>0</td>\n",
       "      <td>0</td>\n",
       "      <td>0</td>\n",
       "      <td>0</td>\n",
       "      <td>0</td>\n",
       "      <td>0</td>\n",
       "      <td>0</td>\n",
       "      <td>0</td>\n",
       "      <td>0</td>\n",
       "      <td>0</td>\n",
       "    </tr>\n",
       "    <tr>\n",
       "      <td>1994</td>\n",
       "      <td>Blueberry Hill</td>\n",
       "      <td>Fats Domino</td>\n",
       "      <td>adult standards</td>\n",
       "      <td>1959</td>\n",
       "      <td>133</td>\n",
       "      <td>50</td>\n",
       "      <td>49</td>\n",
       "      <td>-10</td>\n",
       "      <td>16</td>\n",
       "      <td>83</td>\n",
       "      <td>...</td>\n",
       "      <td>0</td>\n",
       "      <td>0</td>\n",
       "      <td>0</td>\n",
       "      <td>0</td>\n",
       "      <td>0</td>\n",
       "      <td>0</td>\n",
       "      <td>0</td>\n",
       "      <td>0</td>\n",
       "      <td>0</td>\n",
       "      <td>0</td>\n",
       "    </tr>\n",
       "  </tbody>\n",
       "</table>\n",
       "<p>1995 rows × 45 columns</p>\n",
       "</div>"
      ],
      "text/plain": [
       "                       Title                    Artist        Top Genre  Year  \\\n",
       "0                    Sunrise               Norah Jones              pop  2004   \n",
       "1                Black Night               Deep Purple             rock  2000   \n",
       "2             Clint Eastwood                  Gorillaz      hip hop/rap  2001   \n",
       "3              The Pretender              Foo Fighters      alternative  2007   \n",
       "4     Waitin' On A Sunny Day         Bruce Springsteen             rock  2002   \n",
       "...                      ...                       ...              ...   ...   \n",
       "1990        Heartbreak Hotel             Elvis Presley  adult standards  1958   \n",
       "1991               Hound Dog             Elvis Presley  adult standards  1958   \n",
       "1992         Johnny B. Goode               Chuck Berry             rock  1959   \n",
       "1993               Take Five  The Dave Brubeck Quartet             jazz  1959   \n",
       "1994          Blueberry Hill               Fats Domino  adult standards  1959   \n",
       "\n",
       "      BPM  Energy  Danceability  Loudness_db  Liveness  Valence  ...  \\\n",
       "0     157      30            53          -14        11       68  ...   \n",
       "1     135      79            50          -11        17       81  ...   \n",
       "2     168      69            66           -9         7       52  ...   \n",
       "3     173      96            43           -4         3       37  ...   \n",
       "4     106      82            58           -5        10       87  ...   \n",
       "...   ...     ...           ...          ...       ...      ...  ...   \n",
       "1990   94      21            70          -12        11       72  ...   \n",
       "1991  175      76            36           -8        76       95  ...   \n",
       "1992  168      80            53           -9        31       97  ...   \n",
       "1993  174      26            45          -13         7       60  ...   \n",
       "1994  133      50            49          -10        16       83  ...   \n",
       "\n",
       "      Genre_latin  Genre_mellow gold  Genre_metal  Genre_opera  Genre_pop  \\\n",
       "0               0                  0            0            0          1   \n",
       "1               0                  0            0            0          0   \n",
       "2               0                  0            0            0          0   \n",
       "3               0                  0            0            0          0   \n",
       "4               0                  0            0            0          0   \n",
       "...           ...                ...          ...          ...        ...   \n",
       "1990            0                  0            0            0          0   \n",
       "1991            0                  0            0            0          0   \n",
       "1992            0                  0            0            0          0   \n",
       "1993            0                  0            0            0          0   \n",
       "1994            0                  0            0            0          0   \n",
       "\n",
       "      Genre_punk  Genre_reggae  Genre_rock  Genre_singer-songwriter  \\\n",
       "0              0             0           0                        0   \n",
       "1              0             0           1                        0   \n",
       "2              0             0           0                        0   \n",
       "3              0             0           0                        0   \n",
       "4              0             0           1                        0   \n",
       "...          ...           ...         ...                      ...   \n",
       "1990           0             0           0                        0   \n",
       "1991           0             0           0                        0   \n",
       "1992           0             0           1                        0   \n",
       "1993           0             0           0                        0   \n",
       "1994           0             0           0                        0   \n",
       "\n",
       "      Genre_soul  \n",
       "0              0  \n",
       "1              0  \n",
       "2              0  \n",
       "3              0  \n",
       "4              0  \n",
       "...          ...  \n",
       "1990           0  \n",
       "1991           0  \n",
       "1992           0  \n",
       "1993           0  \n",
       "1994           0  \n",
       "\n",
       "[1995 rows x 45 columns]"
      ]
     },
     "execution_count": 237,
     "metadata": {},
     "output_type": "execute_result"
    }
   ],
   "source": [
    "df"
   ]
  },
  {
   "cell_type": "code",
   "execution_count": 238,
   "metadata": {},
   "outputs": [],
   "source": [
    "#save cleaned df to new csv to read into EDA and modeling notebooks\n",
    "df.to_csv('song_data_final.csv')"
   ]
  },
  {
   "cell_type": "code",
   "execution_count": null,
   "metadata": {},
   "outputs": [],
   "source": []
  }
 ],
 "metadata": {
  "kernelspec": {
   "display_name": "Python 3",
   "language": "python",
   "name": "python3"
  },
  "language_info": {
   "codemirror_mode": {
    "name": "ipython",
    "version": 3
   },
   "file_extension": ".py",
   "mimetype": "text/x-python",
   "name": "python",
   "nbconvert_exporter": "python",
   "pygments_lexer": "ipython3",
   "version": "3.7.4"
  }
 },
 "nbformat": 4,
 "nbformat_minor": 2
}
