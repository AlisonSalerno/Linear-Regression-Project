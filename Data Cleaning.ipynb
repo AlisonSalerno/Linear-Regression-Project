{
 "cells": [
  {
   "cell_type": "code",
   "execution_count": 1,
   "metadata": {},
   "outputs": [],
   "source": [
    "import pandas as pd\n",
    "df=pd.read_csv('spotify_all_data2.csv')"
   ]
  },
  {
   "cell_type": "code",
   "execution_count": 2,
   "metadata": {},
   "outputs": [
    {
     "data": {
      "text/plain": [
       "Unnamed: 0                 0\n",
       "Title                      0\n",
       "Artist                     0\n",
       "Top Genre                  0\n",
       "Year                       0\n",
       "Beats Per Minute (BPM)     0\n",
       "Energy                     0\n",
       "Danceability               0\n",
       "Loudness (dB)              0\n",
       "Liveness                   0\n",
       "Valence                    0\n",
       "Length (Duration)          0\n",
       "Acousticness               0\n",
       "Speechiness                0\n",
       "Popularity                 0\n",
       "Total Followers           20\n",
       "dtype: int64"
      ]
     },
     "execution_count": 2,
     "metadata": {},
     "output_type": "execute_result"
    }
   ],
   "source": [
    "df.isna().sum()"
   ]
  },
  {
   "cell_type": "code",
   "execution_count": 3,
   "metadata": {},
   "outputs": [
    {
     "data": {
      "text/plain": [
       "(1995, 16)"
      ]
     },
     "execution_count": 3,
     "metadata": {},
     "output_type": "execute_result"
    }
   ],
   "source": [
    "df.shape"
   ]
  },
  {
   "cell_type": "code",
   "execution_count": 4,
   "metadata": {},
   "outputs": [
    {
     "data": {
      "text/plain": [
       "Index(['Unnamed: 0', 'Title', 'Artist', 'Top Genre', 'Year',\n",
       "       'Beats Per Minute (BPM)', 'Energy', 'Danceability', 'Loudness (dB)',\n",
       "       'Liveness', 'Valence', 'Length (Duration)', 'Acousticness',\n",
       "       'Speechiness', 'Popularity', 'Total Followers'],\n",
       "      dtype='object')"
      ]
     },
     "execution_count": 4,
     "metadata": {},
     "output_type": "execute_result"
    }
   ],
   "source": [
    "df.columns"
   ]
  },
  {
   "cell_type": "code",
   "execution_count": 9,
   "metadata": {},
   "outputs": [],
   "source": [
    "df.drop(columns='Unnamed: 0',inplace=True)"
   ]
  },
  {
   "cell_type": "code",
   "execution_count": 10,
   "metadata": {},
   "outputs": [
    {
     "name": "stdout",
     "output_type": "stream",
     "text": [
      "<class 'pandas.core.frame.DataFrame'>\n",
      "RangeIndex: 1995 entries, 0 to 1994\n",
      "Data columns (total 15 columns):\n",
      "Title                     1995 non-null object\n",
      "Artist                    1995 non-null object\n",
      "Top Genre                 1995 non-null object\n",
      "Year                      1995 non-null int64\n",
      "Beats Per Minute (BPM)    1995 non-null int64\n",
      "Energy                    1995 non-null int64\n",
      "Danceability              1995 non-null int64\n",
      "Loudness (dB)             1995 non-null int64\n",
      "Liveness                  1995 non-null int64\n",
      "Valence                   1995 non-null int64\n",
      "Length (Duration)         1995 non-null object\n",
      "Acousticness              1995 non-null int64\n",
      "Speechiness               1995 non-null int64\n",
      "Popularity                1995 non-null int64\n",
      "Total Followers           1975 non-null float64\n",
      "dtypes: float64(1), int64(10), object(4)\n",
      "memory usage: 233.9+ KB\n"
     ]
    }
   ],
   "source": [
    "df.info()"
   ]
  },
  {
   "cell_type": "code",
   "execution_count": 13,
   "metadata": {},
   "outputs": [],
   "source": [
    "df.rename(columns={'Length (Duration)': 'Duration', 'Beats Per Minute (BPM)':'BPM','Loudness (dB)':'Loudness_db'},inplace=True)"
   ]
  },
  {
   "cell_type": "code",
   "execution_count": 30,
   "metadata": {},
   "outputs": [],
   "source": [
    "df['Duration'] = pd.to_numeric(df['Duration'].str.replace(',', ''))"
   ]
  },
  {
   "cell_type": "code",
   "execution_count": 38,
   "metadata": {},
   "outputs": [
    {
     "data": {
      "text/plain": [
       "0       2152743.0\n",
       "1       3080343.0\n",
       "2       5402898.0\n",
       "3       7461956.0\n",
       "4       3079845.0\n",
       "          ...    \n",
       "1990    4126195.0\n",
       "1991    4126195.0\n",
       "1992    1102795.0\n",
       "1993     136077.0\n",
       "1994     283220.0\n",
       "Name: Total Followers, Length: 1995, dtype: float64"
      ]
     },
     "execution_count": 38,
     "metadata": {},
     "output_type": "execute_result"
    }
   ],
   "source": [
    "df['Total Followers']"
   ]
  },
  {
   "cell_type": "code",
   "execution_count": 37,
   "metadata": {},
   "outputs": [
    {
     "name": "stdout",
     "output_type": "stream",
     "text": [
      "<class 'pandas.core.frame.DataFrame'>\n",
      "RangeIndex: 1995 entries, 0 to 1994\n",
      "Data columns (total 15 columns):\n",
      "Title              1995 non-null object\n",
      "Artist             1995 non-null object\n",
      "Top Genre          1995 non-null object\n",
      "Year               1995 non-null int64\n",
      "BPM                1995 non-null int64\n",
      "Energy             1995 non-null int64\n",
      "Danceability       1995 non-null int64\n",
      "Loudness_db        1995 non-null int64\n",
      "Liveness           1995 non-null int64\n",
      "Valence            1995 non-null int64\n",
      "Duration           1995 non-null int64\n",
      "Acousticness       1995 non-null int64\n",
      "Speechiness        1995 non-null int64\n",
      "Popularity         1995 non-null int64\n",
      "Total Followers    1975 non-null float64\n",
      "dtypes: float64(1), int64(11), object(3)\n",
      "memory usage: 233.9+ KB\n"
     ]
    }
   ],
   "source": []
  },
  {
   "cell_type": "code",
   "execution_count": null,
   "metadata": {},
   "outputs": [],
   "source": []
  }
 ],
 "metadata": {
  "kernelspec": {
   "display_name": "Python 3",
   "language": "python",
   "name": "python3"
  },
  "language_info": {
   "codemirror_mode": {
    "name": "ipython",
    "version": 3
   },
   "file_extension": ".py",
   "mimetype": "text/x-python",
   "name": "python",
   "nbconvert_exporter": "python",
   "pygments_lexer": "ipython3",
   "version": "3.7.4"
  }
 },
 "nbformat": 4,
 "nbformat_minor": 2
}
